{
 "cells": [
  {
   "cell_type": "markdown",
   "id": "46177304-7b49-4a04-9a19-995df4172f5e",
   "metadata": {},
   "source": [
    "# The Guardian "
   ]
  },
  {
   "cell_type": "code",
   "execution_count": 1,
   "id": "3facd67d-34cb-4019-9e1b-8e824aa4ff9d",
   "metadata": {},
   "outputs": [],
   "source": [
    "import pandas as pd\n",
    "import requests\n",
    "import spacy"
   ]
  },
  {
   "cell_type": "markdown",
   "id": "fccb8a98-16f6-4efd-ad66-0ad3c714b596",
   "metadata": {},
   "source": [
    "## Scrape the Data from API"
   ]
  },
  {
   "cell_type": "markdown",
   "id": "8b19fbde-ccfc-42de-bd7a-e17a65ec981e",
   "metadata": {},
   "source": [
    "I want to scrape all the articles within the 'World' section from the first five pages of December 2023 and I define the URL."
   ]
  },
  {
   "cell_type": "code",
   "execution_count": 53,
   "id": "93eeb9b0-c7c3-4698-bd20-ea6bd7acce86",
   "metadata": {},
   "outputs": [],
   "source": [
    "url=\"https://content.guardianapis.com/search?section=world&from-date=2023-12-1&to-date=2023-12-31&show-blocks=all&api-key=4c043d21-d53e-4a99-a6f3-1a08745b7575&page=\""
   ]
  },
  {
   "cell_type": "code",
   "execution_count": 54,
   "id": "434c8ebd-85d4-48e0-96ac-23d04e996cb3",
   "metadata": {},
   "outputs": [],
   "source": [
    "urllist=[]\n",
    "for i in range(1,6): #115\n",
    "    a=url\n",
    "    b=str(i)\n",
    "    c=a+b\n",
    "    urllist.append(c)\n",
    "info=[]\n",
    "def json(url1):\n",
    "    response=requests.get(url1)\n",
    "    x=response.json()\n",
    "    info.append(x)"
   ]
  },
  {
   "cell_type": "code",
   "execution_count": 57,
   "id": "34d45622-2c18-4af2-86cc-581543cd6631",
   "metadata": {},
   "outputs": [],
   "source": [
    "output=[json(url1) for url1 in urllist]"
   ]
  },
  {
   "cell_type": "markdown",
   "id": "eeee5272-1588-44d1-808b-08d8910f3292",
   "metadata": {},
   "source": [
    "I only need specific data, which includes the title, date, URL, and contents. I retrieve this data using the API. Since The Guardian has a special type of article called liveblog, like this [article](https://www.theguardian.com/world/live/2023/dec/31/russia-ukraine-war-live-kharkiv-under-wave-of-drone-attacks-on-new-years-eve), which includes a list of ongoing updates. I've simplified the content extraction by focusing solely on the latest reports within the article."
   ]
  },
  {
   "cell_type": "code",
   "execution_count": 65,
   "id": "693dbc2c-75c0-4a76-ae3e-2f2e24fc6983",
   "metadata": {},
   "outputs": [],
   "source": [
    "extracted_data = [\n",
    "    {\n",
    "        'webTitle': item['webTitle'],\n",
    "        #'sectionName': item['sectionName'],\n",
    "        'webPublicationDate': item['webPublicationDate'],\n",
    "        'webUrl': item['webUrl'],\n",
    "        #'elements':[result['bodyTextSummary'] for result in item['blocks']['body']],\n",
    "        'bodyTextSummary': item['blocks']['body'][0]['bodyTextSummary'], # extract the first report of the article  \n",
    "    }\n",
    "    for response in info if 'results' in response['response']\n",
    "    for item in response['response']['results']\n",
    "    #for result in item['blocks']['body']\n",
    "    \n",
    "]"
   ]
  },
  {
   "cell_type": "code",
   "execution_count": 66,
   "id": "7130a9f1-3922-4e16-9206-8bdab15daaed",
   "metadata": {},
   "outputs": [
    {
     "data": {
      "text/plain": [
       "50"
      ]
     },
     "execution_count": 66,
     "metadata": {},
     "output_type": "execute_result"
    }
   ],
   "source": [
    "len(extracted_data)"
   ]
  },
  {
   "cell_type": "code",
   "execution_count": 69,
   "id": "bf081666-24df-4efa-88c3-c162f96b4f39",
   "metadata": {},
   "outputs": [
    {
     "data": {
      "text/plain": [
       "{'webTitle': 'UK has failed to act to free Alaa Abd el-Fattah from jail in Egypt, family says',\n",
       " 'webPublicationDate': '2023-12-31T05:00:52Z',\n",
       " 'webUrl': 'https://www.theguardian.com/world/2023/dec/31/uk-failed-act-free-alaa-abd-el-fattah-jail-egypt-family-says',\n",
       " 'bodyTextSummary': 'The family of the imprisoned British-Egyptian writer and activist Alaa Abd el-Fattah have said the British government has failed to act to free him, a year after the prime minister, Rishi Sunak, told his sister the government was “totally committed to resolving your brother’s case”. A figurehead in Egypt’s 2011 uprising, which overthrew Hosni Mubarak as president, Abd el-Fattah spent most of the past decade behind bars for his activism. He was rearrested in 2019 following a brief period out of prison but under police surveillance, and was sentenced in December 2021 to a further five years in detention for spreading “false news undermining national security”, after resharing a social media post about torture. He became a British citizen through his mother, the rights activist Laila Soueif, in December 2021, while incarcerated in Egypt. “We thought acquiring British citizenship could be a step on the road to Alaa’s freedom, but it feels now like it has led to false hope, wasted energy and maybe even made things worse,” said his sister, Sanaa Seif. In early November last year, as diplomats assembled in Egypt for the Cop27 climate conference, Abd el-Fattah was “very close to death”, she said. The now 42-year-old writer and activist had endured a six-month partial hunger strike in protest at his detention conditions, principally a demand for a consular visit from British officials. He increased the strike in the weeks before Cop27 to completely forgo food and then also declined water, which resulted in his collapse. Sunak wrote to Seif on 5 November last year, telling her “that the government is deeply committed to doing everything we can to resolve Alaa’s case as soon as possible”, and that the case “remains a priority for the British government”.\\nHe added that “ministers and officials continue to press for urgent consular access to Alaa, as well as calling for his release at the highest levels of the Egyptian government”. Abd el-Fattah’s case had also become a cause for concern in other parts of the British government. In response to a freedom of information request, the Ministry of Defence told the Guardian that while the former defence minister Ben Wallace had failed to raise Abd el-Fattah’s case, the chief of defence staff, Adm Sir Tony Radakin, discussed it with his Egyptian counterpart, Lt Gen Osama Askar, on 6 November 2022. The following day, Sunak publicly met the Egyptian president, Abdel Fatah al-Sisi, on the sidelines of Cop27 in Sharm el-Sheikh and was photographed shaking his hand. The gesture provided the Egyptian leader with the reassurance he was seeking despite mounting criticism of his treatment of Abd el-Fattah and tens of thousands of others detained in Egypt. Abd el-Fattah eventually ended his strike in mid-November last year after he was held incommunicado during Cop27 and received medical treatment, but without any progress towards obtaining a consular visit. In the year since Sunak and Sisi’s first public meeting, the detained activist’s family have despaired as the British government has failed to demonstrate the same commitment to his case that the prime minister promised Seif in his letter, while Egypt stonewalls on diplomatic access. There is also little evidence that the British Foreign Office (FCDO), No 10 or any other British government institution has since made any substantive effort to engage with the Egyptian regime to free Abd el-Fattah. “There has been zero progress of any kind. Egyptian officials continue to stall and the British government accepts it – it’s very strange,” said Seif.\\nSunak met Sisi again on 1 December 2023 at Cop28, when he “inquired about progress in the case of Alaa Abd el-Fattah and reiterated the UK’s call for his release”, according to a readout of the meeting. The FCDO has also persistently declined to share requested information with Abd el-Fattah’s family or to answer FoI requests from the Guardian, including demands for simple information such as the number of times diplomats in Cairo have asked to visit Abd el-Fattah in prison since he became a British citizen in 2021. Tariq Ahmad, the minister for the Middle East, met Soueif in February in a meeting also briefly attended by the then foreign minister, James Cleverly. Both provided reassurances that they would do more to share information about their actions on Abd el-Fattah’s case, including on the issue of whether British diplomats had at least attempted to fulfil his demand for a consular visit. MP David Rutley, responding to a question in parliament in late November, said that several ministers including Ahmad and Cleverly had discussed the case with Egyptian foreign minister Sameh Shoukry. The Egyptian government has persistently refused to recognise Abd el-Fattah’s British citizenship, despite swiftly acknowledging Seif’s, which she also acquired in prison while imprisoned on charges of “spreading false news” in 2021, a conviction described by Amnesty International as “bogus charges [and] a travesty of justice”. Allowing British diplomats to visit Abd el-Fattah in the desert prison where he is held would provide a key sign that Egypt recognises his British nationality, and could move the case forward. Official requests for a consular visit would also symbolise British unwillingness to permit Egypt to further stonewall the case. Despite this, the FCDO has repeatedly declined to provide information as to whether there have been any attempts to visit him in detention. The Guardian first requested this information through FoI in January 2023. In the months since, the FCDO has acknowledged that it has the requested information, but has repeatedly stalled and provided a variety of reasons for failing to disclose it. These include the amount of data requested, privacy concerns, and “the strong public interest in ensuring that the UK government are able to promote international relations and protect UK interest abroad. The effective conduct of international relations depends upon maintaining trust and confidence between governments.” The Guardian also asked to be told how many times Cleverly had raised Abd el-Fattah’s case since he became a British citizen, which the FCDO declined to answer. The ministry also declined to answer how many times the prime minister had raised Abd el-Fattah’s case with Sisi. “It was very clear that the previous foreign secretary was wholly unconcerned. We believe that if Lord [David] Cameron decided it was a priority, it would get done,” said Seif, in reference to the new man in the job. In response to a separate FoI request, the Department for Business and Trade said the trade envoy to Egypt, Sir Jeffrey Donaldson, had met Egyptian officials since Abd el-Fattah gained British citizenship, but declined to answer whether he had raised the case during the meeting, arguing that disclosing this information could prejudice relations between the UK and another state. “It’s now been two years, and they’re not even allowed to visit him,” said Seif. “Egyptian officials tell the FCDO that we haven’t completed the proper paperwork – as if we’ve been sitting around for two years not filling in the right forms. What’s strange is that the British officials just accept it. Why? Is it just in everyone’s interests to do nothing? Is this not damaging to the security of other British nationals detained abroad?” An FCDO spokesperson declined to answer a number of questions about information transparency or whether they had requested to visit Abd el-Fattah in prison. “We want to see Alaa Abd el-Fattah released and we are pressing the Egyptian government about this case. The prime minister raised Mr Alaa Abd El-Fattah’s case with President Sisi most recently two weeks ago,” the spokesperson said.'}"
      ]
     },
     "execution_count": 69,
     "metadata": {},
     "output_type": "execute_result"
    }
   ],
   "source": [
    "extracted_data[20]"
   ]
  },
  {
   "cell_type": "markdown",
   "id": "b6f451e4-229a-4406-baca-5f310a0d9f78",
   "metadata": {},
   "source": [
    "## Save corpus in text files"
   ]
  },
  {
   "cell_type": "markdown",
   "id": "44c734ec-c677-4561-ad50-c535c57b2996",
   "metadata": {},
   "source": [
    "I intend to use the web title as the filename. Therefore, I need to remove special characters. Additionally, to prevent overwriting, I am employing Counter() to append suffixes to files with the same name."
   ]
  },
  {
   "cell_type": "code",
   "execution_count": 71,
   "id": "3823be14-fa59-44d6-becc-0258461f5feb",
   "metadata": {},
   "outputs": [
    {
     "name": "stdout",
     "output_type": "stream",
     "text": [
      "Total iterations: 50\n"
     ]
    }
   ],
   "source": [
    "#save corpus to txt \n",
    "import os\n",
    "from collections import Counter\n",
    "\n",
    "def cleanFilename(filename):\n",
    "    invalid_chars = '<>:\"/\\\\|?*'\n",
    "    for char in invalid_chars:\n",
    "        filename = filename.replace(char, '_')\n",
    "    return filename\n",
    "\n",
    "output_directory = 'guardian_corpus_spacy_improved/'\n",
    "file_counts = Counter()\n",
    "iteration_count = 0\n",
    "\n",
    "\n",
    "for line in extracted_data:\n",
    "    base_filename = cleanFilename(line['webTitle'])\n",
    "    extension = '.txt'\n",
    "    filename = base_filename + extension\n",
    "\n",
    "    # Check if the filename already exists\n",
    "    count = file_counts[filename]\n",
    "    while os.path.join(output_directory, filename) in file_names:\n",
    "        # If yes, increment the count and add the suffix\n",
    "        count += 1\n",
    "        filename = f\"{base_filename}-{count}{extension}\"\n",
    "\n",
    "    file_counts[filename] = count\n",
    "    file_names.append(os.path.join(output_directory, filename))\n",
    "\n",
    "    with open(os.path.join(output_directory, filename), 'w', encoding='utf-8') as file:\n",
    "        # Write the data dictionary to the file\n",
    "        file.write(str(line))\n",
    "\n",
    "    iteration_count += 1 \n",
    "\n",
    "print(f\"Total iterations: {iteration_count}\")"
   ]
  },
  {
   "cell_type": "markdown",
   "id": "7c1616fe-00b6-4687-a036-22d3060f88b3",
   "metadata": {},
   "source": [
    "## Bring metadata into csv "
   ]
  },
  {
   "cell_type": "markdown",
   "id": "0b2d52fe-57c1-4417-a67a-ac87c0cbeb9e",
   "metadata": {},
   "source": [
    "The metadata is in a clear structure, so I've simply used pandas to transform it into a DataFrame."
   ]
  },
  {
   "cell_type": "code",
   "execution_count": 72,
   "id": "3bc2d73b-56a9-46e0-993a-95409bedd91f",
   "metadata": {},
   "outputs": [],
   "source": [
    "# Convert the list of dictionaries to a DataFrame\n",
    "df = pd.DataFrame(extracted_data)\n",
    "\n",
    "# Save the DataFrame to a CSV file\n",
    "df.to_csv('Guardian_Spacy_3_improved.csv', index=False)"
   ]
  },
  {
   "cell_type": "code",
   "execution_count": 73,
   "id": "4b8e000a-d1ca-426d-a5f7-fee9674fb105",
   "metadata": {},
   "outputs": [
    {
     "data": {
      "text/html": [
       "<div>\n",
       "<style scoped>\n",
       "    .dataframe tbody tr th:only-of-type {\n",
       "        vertical-align: middle;\n",
       "    }\n",
       "\n",
       "    .dataframe tbody tr th {\n",
       "        vertical-align: top;\n",
       "    }\n",
       "\n",
       "    .dataframe thead th {\n",
       "        text-align: right;\n",
       "    }\n",
       "</style>\n",
       "<table border=\"1\" class=\"dataframe\">\n",
       "  <thead>\n",
       "    <tr style=\"text-align: right;\">\n",
       "      <th></th>\n",
       "      <th>webTitle</th>\n",
       "      <th>webPublicationDate</th>\n",
       "      <th>webUrl</th>\n",
       "      <th>bodyTextSummary</th>\n",
       "    </tr>\n",
       "  </thead>\n",
       "  <tbody>\n",
       "    <tr>\n",
       "      <th>0</th>\n",
       "      <td>Israeli airstrikes kill scores in Gaza as war ...</td>\n",
       "      <td>2023-12-31T20:44:31Z</td>\n",
       "      <td>https://www.theguardian.com/world/2023/dec/31/...</td>\n",
       "      <td>At least 100 people have been killed in Gaza i...</td>\n",
       "    </tr>\n",
       "    <tr>\n",
       "      <th>1</th>\n",
       "      <td>Queen Margrethe II of Denmark announces surpri...</td>\n",
       "      <td>2023-12-31T18:27:16Z</td>\n",
       "      <td>https://www.theguardian.com/world/2023/dec/31/...</td>\n",
       "      <td>The queen of Denmark has announced that she is...</td>\n",
       "    </tr>\n",
       "    <tr>\n",
       "      <th>2</th>\n",
       "      <td>US Navy downs missiles in Red Sea after ship a...</td>\n",
       "      <td>2023-12-31T17:30:00Z</td>\n",
       "      <td>https://www.theguardian.com/world/2023/dec/31/...</td>\n",
       "      <td>The US Navy has shot down two anti-ship missil...</td>\n",
       "    </tr>\n",
       "    <tr>\n",
       "      <th>3</th>\n",
       "      <td>Family of UK mother and son killed in Alps ava...</td>\n",
       "      <td>2023-12-31T17:27:58Z</td>\n",
       "      <td>https://www.theguardian.com/world/2023/dec/31/...</td>\n",
       "      <td>The family of a mother and son who died in an ...</td>\n",
       "    </tr>\n",
       "    <tr>\n",
       "      <th>4</th>\n",
       "      <td>Venice to limit tourist group size to 25 to pr...</td>\n",
       "      <td>2023-12-31T16:50:08Z</td>\n",
       "      <td>https://www.theguardian.com/world/2023/dec/31/...</td>\n",
       "      <td>Venice is to limit the size of tourist groups ...</td>\n",
       "    </tr>\n",
       "  </tbody>\n",
       "</table>\n",
       "</div>"
      ],
      "text/plain": [
       "                                            webTitle    webPublicationDate  \\\n",
       "0  Israeli airstrikes kill scores in Gaza as war ...  2023-12-31T20:44:31Z   \n",
       "1  Queen Margrethe II of Denmark announces surpri...  2023-12-31T18:27:16Z   \n",
       "2  US Navy downs missiles in Red Sea after ship a...  2023-12-31T17:30:00Z   \n",
       "3  Family of UK mother and son killed in Alps ava...  2023-12-31T17:27:58Z   \n",
       "4  Venice to limit tourist group size to 25 to pr...  2023-12-31T16:50:08Z   \n",
       "\n",
       "                                              webUrl  \\\n",
       "0  https://www.theguardian.com/world/2023/dec/31/...   \n",
       "1  https://www.theguardian.com/world/2023/dec/31/...   \n",
       "2  https://www.theguardian.com/world/2023/dec/31/...   \n",
       "3  https://www.theguardian.com/world/2023/dec/31/...   \n",
       "4  https://www.theguardian.com/world/2023/dec/31/...   \n",
       "\n",
       "                                     bodyTextSummary  \n",
       "0  At least 100 people have been killed in Gaza i...  \n",
       "1  The queen of Denmark has announced that she is...  \n",
       "2  The US Navy has shot down two anti-ship missil...  \n",
       "3  The family of a mother and son who died in an ...  \n",
       "4  Venice is to limit the size of tourist groups ...  "
      ]
     },
     "execution_count": 73,
     "metadata": {},
     "output_type": "execute_result"
    }
   ],
   "source": [
    "df.head()"
   ]
  },
  {
   "cell_type": "markdown",
   "id": "ec97ac1a-3984-45b5-9f95-8f61c2574f9d",
   "metadata": {},
   "source": [
    "## Get Tokens with spacy"
   ]
  },
  {
   "cell_type": "code",
   "execution_count": 74,
   "id": "60f883c6-0a53-4873-9319-08c911510e0e",
   "metadata": {},
   "outputs": [
    {
     "name": "stdout",
     "output_type": "stream",
     "text": [
      "0    (At, least, 100, people, have, been, killed, i...\n",
      "1    (The, queen, of, Denmark, has, announced, that...\n",
      "Name: Token, dtype: object\n"
     ]
    }
   ],
   "source": [
    "def get_token(text): \n",
    "    punctuation = '!@#$%^&*()_-+={}[]:;\"\\'|<>,.?/~`'\n",
    "    text = ''.join(character for character in text\n",
    "                   if character not in punctuation)\n",
    "    nlp = spacy.load(\"en_core_web_sm\")\n",
    "    doc = nlp(text)\n",
    "    return doc\n",
    "\n",
    "df['Token'] = df['bodyTextSummary'].apply(get_token)\n",
    "\n",
    "print(df['Token'].head(2))"
   ]
  },
  {
   "cell_type": "code",
   "execution_count": 75,
   "id": "bb1f14f9-2e17-42d6-8d8d-d0a1d181fc13",
   "metadata": {},
   "outputs": [
    {
     "data": {
      "text/html": [
       "<div>\n",
       "<style scoped>\n",
       "    .dataframe tbody tr th:only-of-type {\n",
       "        vertical-align: middle;\n",
       "    }\n",
       "\n",
       "    .dataframe tbody tr th {\n",
       "        vertical-align: top;\n",
       "    }\n",
       "\n",
       "    .dataframe thead th {\n",
       "        text-align: right;\n",
       "    }\n",
       "</style>\n",
       "<table border=\"1\" class=\"dataframe\">\n",
       "  <thead>\n",
       "    <tr style=\"text-align: right;\">\n",
       "      <th></th>\n",
       "      <th>webTitle</th>\n",
       "      <th>webPublicationDate</th>\n",
       "      <th>webUrl</th>\n",
       "      <th>bodyTextSummary</th>\n",
       "      <th>Token</th>\n",
       "    </tr>\n",
       "  </thead>\n",
       "  <tbody>\n",
       "    <tr>\n",
       "      <th>0</th>\n",
       "      <td>Israeli airstrikes kill scores in Gaza as war ...</td>\n",
       "      <td>2023-12-31T20:44:31Z</td>\n",
       "      <td>https://www.theguardian.com/world/2023/dec/31/...</td>\n",
       "      <td>At least 100 people have been killed in Gaza i...</td>\n",
       "      <td>(At, least, 100, people, have, been, killed, i...</td>\n",
       "    </tr>\n",
       "    <tr>\n",
       "      <th>1</th>\n",
       "      <td>Queen Margrethe II of Denmark announces surpri...</td>\n",
       "      <td>2023-12-31T18:27:16Z</td>\n",
       "      <td>https://www.theguardian.com/world/2023/dec/31/...</td>\n",
       "      <td>The queen of Denmark has announced that she is...</td>\n",
       "      <td>(The, queen, of, Denmark, has, announced, that...</td>\n",
       "    </tr>\n",
       "  </tbody>\n",
       "</table>\n",
       "</div>"
      ],
      "text/plain": [
       "                                            webTitle    webPublicationDate  \\\n",
       "0  Israeli airstrikes kill scores in Gaza as war ...  2023-12-31T20:44:31Z   \n",
       "1  Queen Margrethe II of Denmark announces surpri...  2023-12-31T18:27:16Z   \n",
       "\n",
       "                                              webUrl  \\\n",
       "0  https://www.theguardian.com/world/2023/dec/31/...   \n",
       "1  https://www.theguardian.com/world/2023/dec/31/...   \n",
       "\n",
       "                                     bodyTextSummary  \\\n",
       "0  At least 100 people have been killed in Gaza i...   \n",
       "1  The queen of Denmark has announced that she is...   \n",
       "\n",
       "                                               Token  \n",
       "0  (At, least, 100, people, have, been, killed, i...  \n",
       "1  (The, queen, of, Denmark, has, announced, that...  "
      ]
     },
     "execution_count": 75,
     "metadata": {},
     "output_type": "execute_result"
    }
   ],
   "source": [
    "df.head(2)"
   ]
  },
  {
   "cell_type": "markdown",
   "id": "1e5754e8-e158-4cd0-831e-9d4e03e49f9c",
   "metadata": {},
   "source": [
    "## Get Lemmas with Spacy"
   ]
  },
  {
   "cell_type": "code",
   "execution_count": 76,
   "id": "2a62d7ac-4943-48a7-8684-68baf0a6707f",
   "metadata": {},
   "outputs": [
    {
     "name": "stdout",
     "output_type": "stream",
     "text": [
      "0    [at, least, 100, people, have, be, kill, in, G...\n",
      "1    [the, queen, of, Denmark, have, announce, that...\n",
      "Name: Lemma, dtype: object\n"
     ]
    }
   ],
   "source": [
    "def lemma(text):\n",
    "    return [(token.lemma_) for token in text]\n",
    "df['Lemma'] = df['Token'].apply(lemma)\n",
    "print(df['Lemma'].head(2))"
   ]
  },
  {
   "cell_type": "markdown",
   "id": "2f818954-c0a5-47cb-a343-1599341a4f06",
   "metadata": {},
   "source": [
    "## Get POS with Spacy"
   ]
  },
  {
   "cell_type": "code",
   "execution_count": 77,
   "id": "21ffe0b5-a6d3-4302-8beb-c967345417bc",
   "metadata": {},
   "outputs": [
    {
     "name": "stdout",
     "output_type": "stream",
     "text": [
      "0    [ADP, ADJ, NUM, NOUN, AUX, AUX, VERB, ADP, PRO...\n",
      "1    [DET, NOUN, ADP, PROPN, AUX, VERB, SCONJ, PRON...\n",
      "Name: Pos, dtype: object\n"
     ]
    }
   ],
   "source": [
    "def pos(text):\n",
    "    return [(token.pos_) for token in text]\n",
    "\n",
    "df['Pos'] = df['Token'].apply(pos)\n",
    "print(df['Pos'].head(2))"
   ]
  },
  {
   "cell_type": "code",
   "execution_count": 78,
   "id": "f1e5681b-12ab-41f6-af0c-b3b7dafa53f5",
   "metadata": {},
   "outputs": [
    {
     "name": "stdout",
     "output_type": "stream",
     "text": [
      "                                            webTitle    webPublicationDate  \\\n",
      "0  Israeli airstrikes kill scores in Gaza as war ...  2023-12-31T20:44:31Z   \n",
      "1  Queen Margrethe II of Denmark announces surpri...  2023-12-31T18:27:16Z   \n",
      "\n",
      "                                              webUrl  \\\n",
      "0  https://www.theguardian.com/world/2023/dec/31/...   \n",
      "1  https://www.theguardian.com/world/2023/dec/31/...   \n",
      "\n",
      "                                     bodyTextSummary  \\\n",
      "0  At least 100 people have been killed in Gaza i...   \n",
      "1  The queen of Denmark has announced that she is...   \n",
      "\n",
      "                                               Token  \\\n",
      "0  (At, least, 100, people, have, been, killed, i...   \n",
      "1  (The, queen, of, Denmark, has, announced, that...   \n",
      "\n",
      "                                               Lemma  \\\n",
      "0  [at, least, 100, people, have, be, kill, in, G...   \n",
      "1  [the, queen, of, Denmark, have, announce, that...   \n",
      "\n",
      "                                                 Pos  \n",
      "0  [ADP, ADJ, NUM, NOUN, AUX, AUX, VERB, ADP, PRO...  \n",
      "1  [DET, NOUN, ADP, PROPN, AUX, VERB, SCONJ, PRON...  \n"
     ]
    }
   ],
   "source": [
    "print(df.head(2))"
   ]
  },
  {
   "cell_type": "code",
   "execution_count": 79,
   "id": "6ed5dd7e-9a68-470d-8dc9-763e7cdacf83",
   "metadata": {},
   "outputs": [],
   "source": [
    "df.to_csv('Guardian_Spacy_03_annotated_improved.csv', index=False)"
   ]
  }
 ],
 "metadata": {
  "kernelspec": {
   "display_name": "Python 3 (ipykernel)",
   "language": "python",
   "name": "python3"
  },
  "language_info": {
   "codemirror_mode": {
    "name": "ipython",
    "version": 3
   },
   "file_extension": ".py",
   "mimetype": "text/x-python",
   "name": "python",
   "nbconvert_exporter": "python",
   "pygments_lexer": "ipython3",
   "version": "3.9.18"
  }
 },
 "nbformat": 4,
 "nbformat_minor": 5
}
